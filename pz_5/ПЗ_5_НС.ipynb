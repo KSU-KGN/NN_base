{
  "nbformat": 4,
  "nbformat_minor": 0,
  "metadata": {
    "colab": {
      "provenance": []
    },
    "kernelspec": {
      "name": "python3",
      "display_name": "Python 3"
    },
    "language_info": {
      "name": "python"
    }
  },
  "cells": [
    {
      "cell_type": "code",
      "source": [
        "# импортируем регулярные выражения\n",
        "import re"
      ],
      "metadata": {
        "id": "PH_mcB21EoxE"
      },
      "execution_count": 29,
      "outputs": []
    },
    {
      "cell_type": "code",
      "execution_count": 30,
      "metadata": {
        "id": "bJQINrKnDqju"
      },
      "outputs": [],
      "source": [
        "with open('train_data.txt', 'r', encoding='utf-8') as f:\n",
        "    text = f.read()\n",
        "    text = text.replace('\\ufeff', '') # убираем первый невидимый символ\n",
        "    text = re.sub(r'[^А-я ]', '', text) # убираем все недопустимые символы"
      ]
    },
    {
      "cell_type": "code",
      "source": [
        "text"
      ],
      "metadata": {
        "colab": {
          "base_uri": "https://localhost:8080/",
          "height": 53
        },
        "id": "SubXLsi5ErEN",
        "outputId": "c804e630-1741-47f3-842d-a6d77a48c36a"
      },
      "execution_count": 31,
      "outputs": [
        {
          "output_type": "execute_result",
          "data": {
            "text/plain": [
              "'Вы  лучший ответ на проблемы которые возникли в понедельникДумайте позитивно и верьте в свою способность достигать отличных результатовЕсли вы смогли в понедельник подняться с постели значит вы супер герой'"
            ],
            "application/vnd.google.colaboratory.intrinsic+json": {
              "type": "string"
            }
          },
          "metadata": {},
          "execution_count": 31
        }
      ]
    },
    {
      "cell_type": "code",
      "source": [
        "len(text)"
      ],
      "metadata": {
        "colab": {
          "base_uri": "https://localhost:8080/"
        },
        "id": "fyD7g4glKVps",
        "outputId": "94f5b1ad-9f89-492d-ccac-0c7131eb9e56"
      },
      "execution_count": 32,
      "outputs": [
        {
          "output_type": "execute_result",
          "data": {
            "text/plain": [
              "205"
            ]
          },
          "metadata": {},
          "execution_count": 32
        }
      ]
    },
    {
      "cell_type": "code",
      "source": [
        "num_characters = 34 #33 буквы + пробел"
      ],
      "metadata": {
        "id": "IJD76YJ4E6z0"
      },
      "execution_count": 33,
      "outputs": []
    },
    {
      "cell_type": "code",
      "source": [
        "import keras\n",
        "from keras.preprocessing.text import Tokenizer"
      ],
      "metadata": {
        "id": "DgiJrgsiIK_x"
      },
      "execution_count": 34,
      "outputs": []
    },
    {
      "cell_type": "markdown",
      "source": [
        "Сформируем словарь из символов нашего текста"
      ],
      "metadata": {
        "id": "7FidyFm4Vhu4"
      }
    },
    {
      "cell_type": "code",
      "source": [
        "tokenizer = Tokenizer(num_words=num_characters, char_level=True)"
      ],
      "metadata": {
        "id": "appv1wfpIJvH"
      },
      "execution_count": 35,
      "outputs": []
    },
    {
      "cell_type": "code",
      "source": [
        "tokenizer.fit_on_texts(text)"
      ],
      "metadata": {
        "id": "N1yoi7pGId-n"
      },
      "execution_count": 36,
      "outputs": []
    },
    {
      "cell_type": "code",
      "source": [
        "print(tokenizer.word_index)"
      ],
      "metadata": {
        "colab": {
          "base_uri": "https://localhost:8080/"
        },
        "id": "QJmXPaQbIf-I",
        "outputId": "6f794ebb-1f5d-4591-9b6e-3b70c27e4f19"
      },
      "execution_count": 37,
      "outputs": [
        {
          "output_type": "stream",
          "name": "stdout",
          "text": [
            "{' ': 1, 'о': 2, 'т': 3, 'е': 4, 'и': 5, 'в': 6, 'н': 7, 'с': 8, 'л': 9, 'п': 10, 'ь': 11, 'ы': 12, 'р': 13, 'а': 14, 'д': 15, 'у': 16, 'к': 17, 'з': 18, 'ч': 19, 'й': 20, 'м': 21, 'г': 22, 'б': 23, 'я': 24, 'ш': 25, 'ю': 26, 'х': 27}\n"
          ]
        }
      ]
    },
    {
      "cell_type": "code",
      "source": [
        "inp_chars = 6 #\n",
        "data = tokenizer.texts_to_matrix(text)"
      ],
      "metadata": {
        "id": "1wWs_206JRu-"
      },
      "execution_count": 38,
      "outputs": []
    },
    {
      "cell_type": "code",
      "source": [
        "data[1]"
      ],
      "metadata": {
        "colab": {
          "base_uri": "https://localhost:8080/"
        },
        "id": "Yqy7uBYCJTYV",
        "outputId": "27081ab6-45b2-4a34-8f3c-7e1a39e15113"
      },
      "execution_count": 39,
      "outputs": [
        {
          "output_type": "execute_result",
          "data": {
            "text/plain": [
              "array([0., 0., 0., 0., 0., 0., 0., 0., 0., 0., 0., 0., 1., 0., 0., 0., 0.,\n",
              "       0., 0., 0., 0., 0., 0., 0., 0., 0., 0., 0., 0., 0., 0., 0., 0., 0.])"
            ]
          },
          "metadata": {},
          "execution_count": 39
        }
      ]
    },
    {
      "cell_type": "code",
      "source": [
        "n = data.shape[0]-inp_chars\n",
        "n  #размер обучающего множества (205 - inp_chars)"
      ],
      "metadata": {
        "colab": {
          "base_uri": "https://localhost:8080/"
        },
        "id": "HnWQb42jKAd1",
        "outputId": "d9006a5f-ee75-41d0-dd13-4fad2132d5df"
      },
      "execution_count": 40,
      "outputs": [
        {
          "output_type": "execute_result",
          "data": {
            "text/plain": [
              "199"
            ]
          },
          "metadata": {},
          "execution_count": 40
        }
      ]
    },
    {
      "cell_type": "code",
      "source": [
        "import numpy as np"
      ],
      "metadata": {
        "id": "kvZ-iB9LKwgc"
      },
      "execution_count": 41,
      "outputs": []
    },
    {
      "cell_type": "code",
      "source": [
        "X = np.array([data[i:i+inp_chars, :] for i in range(n)])\n",
        "Y = data[inp_chars:] #предсказание следующего символа"
      ],
      "metadata": {
        "id": "_nG7M5RIKsfs"
      },
      "execution_count": 42,
      "outputs": []
    },
    {
      "cell_type": "code",
      "source": [
        "len(X)"
      ],
      "metadata": {
        "colab": {
          "base_uri": "https://localhost:8080/"
        },
        "id": "z20DCMmSK3tj",
        "outputId": "ce302bb1-9173-409b-c5c7-dfc5ea50dc89"
      },
      "execution_count": 43,
      "outputs": [
        {
          "output_type": "execute_result",
          "data": {
            "text/plain": [
              "199"
            ]
          },
          "metadata": {},
          "execution_count": 43
        }
      ]
    },
    {
      "cell_type": "code",
      "source": [
        "X[0]"
      ],
      "metadata": {
        "colab": {
          "base_uri": "https://localhost:8080/"
        },
        "id": "0NrELysIK5fL",
        "outputId": "e01e9edb-d395-4f07-e22a-f53de905da3c"
      },
      "execution_count": 44,
      "outputs": [
        {
          "output_type": "execute_result",
          "data": {
            "text/plain": [
              "array([[0., 0., 0., 0., 0., 0., 1., 0., 0., 0., 0., 0., 0., 0., 0., 0.,\n",
              "        0., 0., 0., 0., 0., 0., 0., 0., 0., 0., 0., 0., 0., 0., 0., 0.,\n",
              "        0., 0.],\n",
              "       [0., 0., 0., 0., 0., 0., 0., 0., 0., 0., 0., 0., 1., 0., 0., 0.,\n",
              "        0., 0., 0., 0., 0., 0., 0., 0., 0., 0., 0., 0., 0., 0., 0., 0.,\n",
              "        0., 0.],\n",
              "       [0., 1., 0., 0., 0., 0., 0., 0., 0., 0., 0., 0., 0., 0., 0., 0.,\n",
              "        0., 0., 0., 0., 0., 0., 0., 0., 0., 0., 0., 0., 0., 0., 0., 0.,\n",
              "        0., 0.],\n",
              "       [0., 1., 0., 0., 0., 0., 0., 0., 0., 0., 0., 0., 0., 0., 0., 0.,\n",
              "        0., 0., 0., 0., 0., 0., 0., 0., 0., 0., 0., 0., 0., 0., 0., 0.,\n",
              "        0., 0.],\n",
              "       [0., 0., 0., 0., 0., 0., 0., 0., 0., 1., 0., 0., 0., 0., 0., 0.,\n",
              "        0., 0., 0., 0., 0., 0., 0., 0., 0., 0., 0., 0., 0., 0., 0., 0.,\n",
              "        0., 0.],\n",
              "       [0., 0., 0., 0., 0., 0., 0., 0., 0., 0., 0., 0., 0., 0., 0., 0.,\n",
              "        1., 0., 0., 0., 0., 0., 0., 0., 0., 0., 0., 0., 0., 0., 0., 0.,\n",
              "        0., 0.]])"
            ]
          },
          "metadata": {},
          "execution_count": 44
        }
      ]
    },
    {
      "cell_type": "code",
      "source": [
        "Y[0]"
      ],
      "metadata": {
        "colab": {
          "base_uri": "https://localhost:8080/"
        },
        "id": "XbsyrcEGK7G7",
        "outputId": "d525156d-ac50-41c5-d834-2d2392890b34"
      },
      "execution_count": 45,
      "outputs": [
        {
          "output_type": "execute_result",
          "data": {
            "text/plain": [
              "array([0., 0., 0., 0., 0., 0., 0., 0., 0., 0., 0., 0., 0., 0., 0., 0., 0.,\n",
              "       0., 0., 1., 0., 0., 0., 0., 0., 0., 0., 0., 0., 0., 0., 0., 0., 0.])"
            ]
          },
          "metadata": {},
          "execution_count": 45
        }
      ]
    },
    {
      "cell_type": "code",
      "source": [
        "from keras.layers import *\n",
        "from keras.models import Sequential"
      ],
      "metadata": {
        "id": "lIP7yhRzLZsr"
      },
      "execution_count": 46,
      "outputs": []
    },
    {
      "cell_type": "code",
      "source": [
        "model = Sequential()\n",
        "model.add(Input((inp_chars, num_characters)))\n",
        "model.add(SimpleRNN(500, activation='tanh'))\n",
        "model.add(Dense(num_characters, activation='softmax'))\n",
        "model.summary()"
      ],
      "metadata": {
        "colab": {
          "base_uri": "https://localhost:8080/"
        },
        "id": "gwyYcqGiLXPE",
        "outputId": "9c20badc-4cc3-43d5-c2e7-ad25777463b7"
      },
      "execution_count": 47,
      "outputs": [
        {
          "output_type": "stream",
          "name": "stdout",
          "text": [
            "Model: \"sequential_2\"\n",
            "_________________________________________________________________\n",
            " Layer (type)                Output Shape              Param #   \n",
            "=================================================================\n",
            " simple_rnn_2 (SimpleRNN)    (None, 500)               267500    \n",
            "                                                                 \n",
            " dense_2 (Dense)             (None, 34)                17034     \n",
            "                                                                 \n",
            "=================================================================\n",
            "Total params: 284534 (1.09 MB)\n",
            "Trainable params: 284534 (1.09 MB)\n",
            "Non-trainable params: 0 (0.00 Byte)\n",
            "_________________________________________________________________\n"
          ]
        }
      ]
    },
    {
      "cell_type": "code",
      "source": [
        "model.compile(loss='categorical_crossentropy', metrics=['accuracy'], optimizer='adam')\n",
        "history = model.fit(X, Y, batch_size=32, epochs=100)"
      ],
      "metadata": {
        "colab": {
          "base_uri": "https://localhost:8080/"
        },
        "id": "Y3-y2cQiMGLK",
        "outputId": "ca136bdd-4f64-4653-877b-c6ae55d15bb3"
      },
      "execution_count": 48,
      "outputs": [
        {
          "output_type": "stream",
          "name": "stdout",
          "text": [
            "Epoch 1/100\n",
            "7/7 [==============================] - 1s 19ms/step - loss: 3.3635 - accuracy: 0.0754\n",
            "Epoch 2/100\n",
            "7/7 [==============================] - 0s 20ms/step - loss: 2.4225 - accuracy: 0.3467\n",
            "Epoch 3/100\n",
            "7/7 [==============================] - 0s 19ms/step - loss: 1.8781 - accuracy: 0.4724\n",
            "Epoch 4/100\n",
            "7/7 [==============================] - 0s 19ms/step - loss: 1.5243 - accuracy: 0.5578\n",
            "Epoch 5/100\n",
            "7/7 [==============================] - 0s 20ms/step - loss: 1.2296 - accuracy: 0.6482\n",
            "Epoch 6/100\n",
            "7/7 [==============================] - 0s 19ms/step - loss: 1.0082 - accuracy: 0.7136\n",
            "Epoch 7/100\n",
            "7/7 [==============================] - 0s 21ms/step - loss: 0.8164 - accuracy: 0.7789\n",
            "Epoch 8/100\n",
            "7/7 [==============================] - 0s 20ms/step - loss: 0.7445 - accuracy: 0.8291\n",
            "Epoch 9/100\n",
            "7/7 [==============================] - 0s 32ms/step - loss: 0.6124 - accuracy: 0.8643\n",
            "Epoch 10/100\n",
            "7/7 [==============================] - 0s 27ms/step - loss: 0.5407 - accuracy: 0.8744\n",
            "Epoch 11/100\n",
            "7/7 [==============================] - 0s 28ms/step - loss: 0.4726 - accuracy: 0.9146\n",
            "Epoch 12/100\n",
            "7/7 [==============================] - 0s 31ms/step - loss: 0.4761 - accuracy: 0.8995\n",
            "Epoch 13/100\n",
            "7/7 [==============================] - 0s 28ms/step - loss: 0.5015 - accuracy: 0.9095\n",
            "Epoch 14/100\n",
            "7/7 [==============================] - 0s 27ms/step - loss: 0.4512 - accuracy: 0.8794\n",
            "Epoch 15/100\n",
            "7/7 [==============================] - 0s 28ms/step - loss: 0.3976 - accuracy: 0.9045\n",
            "Epoch 16/100\n",
            "7/7 [==============================] - 0s 25ms/step - loss: 0.3433 - accuracy: 0.9146\n",
            "Epoch 17/100\n",
            "7/7 [==============================] - 0s 27ms/step - loss: 0.2526 - accuracy: 0.9598\n",
            "Epoch 18/100\n",
            "7/7 [==============================] - 0s 26ms/step - loss: 0.2692 - accuracy: 0.9397\n",
            "Epoch 19/100\n",
            "7/7 [==============================] - 0s 27ms/step - loss: 0.2668 - accuracy: 0.9548\n",
            "Epoch 20/100\n",
            "7/7 [==============================] - 0s 30ms/step - loss: 0.2230 - accuracy: 0.9447\n",
            "Epoch 21/100\n",
            "7/7 [==============================] - 0s 28ms/step - loss: 0.2039 - accuracy: 0.9648\n",
            "Epoch 22/100\n",
            "7/7 [==============================] - 0s 35ms/step - loss: 0.1697 - accuracy: 0.9749\n",
            "Epoch 23/100\n",
            "7/7 [==============================] - 0s 31ms/step - loss: 0.1508 - accuracy: 0.9799\n",
            "Epoch 24/100\n",
            "7/7 [==============================] - 0s 31ms/step - loss: 0.1442 - accuracy: 0.9799\n",
            "Epoch 25/100\n",
            "7/7 [==============================] - 0s 22ms/step - loss: 0.1957 - accuracy: 0.9799\n",
            "Epoch 26/100\n",
            "7/7 [==============================] - 0s 18ms/step - loss: 0.2265 - accuracy: 0.9698\n",
            "Epoch 27/100\n",
            "7/7 [==============================] - 0s 19ms/step - loss: 0.1541 - accuracy: 0.9648\n",
            "Epoch 28/100\n",
            "7/7 [==============================] - 0s 19ms/step - loss: 0.1211 - accuracy: 0.9849\n",
            "Epoch 29/100\n",
            "7/7 [==============================] - 0s 19ms/step - loss: 0.1376 - accuracy: 0.9749\n",
            "Epoch 30/100\n",
            "7/7 [==============================] - 0s 17ms/step - loss: 0.1077 - accuracy: 0.9799\n",
            "Epoch 31/100\n",
            "7/7 [==============================] - 0s 17ms/step - loss: 0.0907 - accuracy: 0.9899\n",
            "Epoch 32/100\n",
            "7/7 [==============================] - 0s 21ms/step - loss: 0.0882 - accuracy: 0.9749\n",
            "Epoch 33/100\n",
            "7/7 [==============================] - 0s 17ms/step - loss: 0.0927 - accuracy: 0.9799\n",
            "Epoch 34/100\n",
            "7/7 [==============================] - 0s 19ms/step - loss: 0.1088 - accuracy: 0.9849\n",
            "Epoch 35/100\n",
            "7/7 [==============================] - 0s 19ms/step - loss: 0.1008 - accuracy: 0.9849\n",
            "Epoch 36/100\n",
            "7/7 [==============================] - 0s 24ms/step - loss: 0.0943 - accuracy: 0.9799\n",
            "Epoch 37/100\n",
            "7/7 [==============================] - 0s 21ms/step - loss: 0.0697 - accuracy: 0.9849\n",
            "Epoch 38/100\n",
            "7/7 [==============================] - 0s 19ms/step - loss: 0.2084 - accuracy: 0.9698\n",
            "Epoch 39/100\n",
            "7/7 [==============================] - 0s 18ms/step - loss: 0.1642 - accuracy: 0.9598\n",
            "Epoch 40/100\n",
            "7/7 [==============================] - 0s 19ms/step - loss: 0.1566 - accuracy: 0.9648\n",
            "Epoch 41/100\n",
            "7/7 [==============================] - 0s 19ms/step - loss: 0.1173 - accuracy: 0.9698\n",
            "Epoch 42/100\n",
            "7/7 [==============================] - 0s 20ms/step - loss: 0.2765 - accuracy: 0.9548\n",
            "Epoch 43/100\n",
            "7/7 [==============================] - 0s 25ms/step - loss: 0.2140 - accuracy: 0.9397\n",
            "Epoch 44/100\n",
            "7/7 [==============================] - 0s 21ms/step - loss: 0.1807 - accuracy: 0.9698\n",
            "Epoch 45/100\n",
            "7/7 [==============================] - 0s 19ms/step - loss: 0.1302 - accuracy: 0.9849\n",
            "Epoch 46/100\n",
            "7/7 [==============================] - 0s 19ms/step - loss: 0.1649 - accuracy: 0.9749\n",
            "Epoch 47/100\n",
            "7/7 [==============================] - 0s 17ms/step - loss: 0.1272 - accuracy: 0.9749\n",
            "Epoch 48/100\n",
            "7/7 [==============================] - 0s 17ms/step - loss: 0.0884 - accuracy: 0.9849\n",
            "Epoch 49/100\n",
            "7/7 [==============================] - 0s 17ms/step - loss: 0.0876 - accuracy: 0.9749\n",
            "Epoch 50/100\n",
            "7/7 [==============================] - 0s 17ms/step - loss: 0.0580 - accuracy: 0.9950\n",
            "Epoch 51/100\n",
            "7/7 [==============================] - 0s 20ms/step - loss: 0.0632 - accuracy: 0.9899\n",
            "Epoch 52/100\n",
            "7/7 [==============================] - 0s 16ms/step - loss: 0.0865 - accuracy: 0.9849\n",
            "Epoch 53/100\n",
            "7/7 [==============================] - 0s 19ms/step - loss: 0.0782 - accuracy: 0.9799\n",
            "Epoch 54/100\n",
            "7/7 [==============================] - 0s 16ms/step - loss: 0.0992 - accuracy: 0.9799\n",
            "Epoch 55/100\n",
            "7/7 [==============================] - 0s 16ms/step - loss: 0.0634 - accuracy: 0.9849\n",
            "Epoch 56/100\n",
            "7/7 [==============================] - 0s 19ms/step - loss: 0.2181 - accuracy: 0.9447\n",
            "Epoch 57/100\n",
            "7/7 [==============================] - 0s 19ms/step - loss: 0.2260 - accuracy: 0.9296\n",
            "Epoch 58/100\n",
            "7/7 [==============================] - 0s 21ms/step - loss: 0.3269 - accuracy: 0.9296\n",
            "Epoch 59/100\n",
            "7/7 [==============================] - 0s 19ms/step - loss: 0.2465 - accuracy: 0.9347\n",
            "Epoch 60/100\n",
            "7/7 [==============================] - 0s 19ms/step - loss: 0.1369 - accuracy: 0.9497\n",
            "Epoch 61/100\n",
            "7/7 [==============================] - 0s 18ms/step - loss: 0.2122 - accuracy: 0.9497\n",
            "Epoch 62/100\n",
            "7/7 [==============================] - 0s 18ms/step - loss: 0.2243 - accuracy: 0.9548\n",
            "Epoch 63/100\n",
            "7/7 [==============================] - 0s 18ms/step - loss: 0.1714 - accuracy: 0.9648\n",
            "Epoch 64/100\n",
            "7/7 [==============================] - 0s 17ms/step - loss: 0.0873 - accuracy: 0.9799\n",
            "Epoch 65/100\n",
            "7/7 [==============================] - 0s 18ms/step - loss: 0.1375 - accuracy: 0.9648\n",
            "Epoch 66/100\n",
            "7/7 [==============================] - 0s 21ms/step - loss: 0.1666 - accuracy: 0.9598\n",
            "Epoch 67/100\n",
            "7/7 [==============================] - 0s 19ms/step - loss: 0.1767 - accuracy: 0.9648\n",
            "Epoch 68/100\n",
            "7/7 [==============================] - 0s 16ms/step - loss: 0.1072 - accuracy: 0.9698\n",
            "Epoch 69/100\n",
            "7/7 [==============================] - 0s 18ms/step - loss: 0.0613 - accuracy: 0.9950\n",
            "Epoch 70/100\n",
            "7/7 [==============================] - 0s 18ms/step - loss: 0.0523 - accuracy: 0.9899\n",
            "Epoch 71/100\n",
            "7/7 [==============================] - 0s 19ms/step - loss: 0.0600 - accuracy: 0.9899\n",
            "Epoch 72/100\n",
            "7/7 [==============================] - 0s 18ms/step - loss: 0.0331 - accuracy: 0.9950\n",
            "Epoch 73/100\n",
            "7/7 [==============================] - 0s 21ms/step - loss: 0.0488 - accuracy: 0.9950\n",
            "Epoch 74/100\n",
            "7/7 [==============================] - 0s 20ms/step - loss: 0.0473 - accuracy: 0.9950\n",
            "Epoch 75/100\n",
            "7/7 [==============================] - 0s 18ms/step - loss: 0.0392 - accuracy: 0.9950\n",
            "Epoch 76/100\n",
            "7/7 [==============================] - 0s 18ms/step - loss: 0.0253 - accuracy: 0.9950\n",
            "Epoch 77/100\n",
            "7/7 [==============================] - 0s 18ms/step - loss: 0.0207 - accuracy: 0.9950\n",
            "Epoch 78/100\n",
            "7/7 [==============================] - 0s 18ms/step - loss: 0.0214 - accuracy: 0.9950\n",
            "Epoch 79/100\n",
            "7/7 [==============================] - 0s 17ms/step - loss: 0.0212 - accuracy: 0.9950\n",
            "Epoch 80/100\n",
            "7/7 [==============================] - 0s 20ms/step - loss: 0.0186 - accuracy: 0.9950\n",
            "Epoch 81/100\n",
            "7/7 [==============================] - 0s 22ms/step - loss: 0.0212 - accuracy: 0.9950\n",
            "Epoch 82/100\n",
            "7/7 [==============================] - 0s 17ms/step - loss: 0.0210 - accuracy: 0.9899\n",
            "Epoch 83/100\n",
            "7/7 [==============================] - 0s 18ms/step - loss: 0.0174 - accuracy: 0.9950\n",
            "Epoch 84/100\n",
            "7/7 [==============================] - 0s 17ms/step - loss: 0.0181 - accuracy: 0.9950\n",
            "Epoch 85/100\n",
            "7/7 [==============================] - 0s 17ms/step - loss: 0.0275 - accuracy: 0.9950\n",
            "Epoch 86/100\n",
            "7/7 [==============================] - 0s 16ms/step - loss: 0.0237 - accuracy: 0.9950\n",
            "Epoch 87/100\n",
            "7/7 [==============================] - 0s 17ms/step - loss: 0.0257 - accuracy: 0.9950\n",
            "Epoch 88/100\n",
            "7/7 [==============================] - 0s 17ms/step - loss: 0.0307 - accuracy: 0.9950\n",
            "Epoch 89/100\n",
            "7/7 [==============================] - 0s 20ms/step - loss: 0.0254 - accuracy: 0.9950\n",
            "Epoch 90/100\n",
            "7/7 [==============================] - 0s 17ms/step - loss: 0.0180 - accuracy: 0.9950\n",
            "Epoch 91/100\n",
            "7/7 [==============================] - 0s 18ms/step - loss: 0.0179 - accuracy: 0.9899\n",
            "Epoch 92/100\n",
            "7/7 [==============================] - 0s 16ms/step - loss: 0.0173 - accuracy: 0.9950\n",
            "Epoch 93/100\n",
            "7/7 [==============================] - 0s 17ms/step - loss: 0.0164 - accuracy: 0.9950\n",
            "Epoch 94/100\n",
            "7/7 [==============================] - 0s 19ms/step - loss: 0.0191 - accuracy: 0.9899\n",
            "Epoch 95/100\n",
            "7/7 [==============================] - 0s 17ms/step - loss: 0.0178 - accuracy: 0.9950\n",
            "Epoch 96/100\n",
            "7/7 [==============================] - 0s 18ms/step - loss: 0.0192 - accuracy: 0.9899\n",
            "Epoch 97/100\n",
            "7/7 [==============================] - 0s 21ms/step - loss: 0.0278 - accuracy: 0.9950\n",
            "Epoch 98/100\n",
            "7/7 [==============================] - 0s 32ms/step - loss: 0.0241 - accuracy: 0.9950\n",
            "Epoch 99/100\n",
            "7/7 [==============================] - 0s 33ms/step - loss: 0.0198 - accuracy: 0.9950\n",
            "Epoch 100/100\n",
            "7/7 [==============================] - 0s 36ms/step - loss: 0.0154 - accuracy: 0.9950\n"
          ]
        }
      ]
    },
    {
      "cell_type": "code",
      "source": [
        "def buildPhrase(inp_str, str_len = 50):\n",
        "  for i in range(str_len):\n",
        "    x = []\n",
        "    for j in range(i, i+inp_chars):\n",
        "      x.append(tokenizer.texts_to_matrix(inp_str[j])) # преобразуем символы в One-Hot-encoding\n",
        "\n",
        "    x = np.array(x)\n",
        "    inp = x.reshape(1, inp_chars, num_characters)\n",
        "\n",
        "    pred = model.predict( inp ) # предсказываем OHE четвертого символа\n",
        "    d = tokenizer.index_word[pred.argmax(axis=1)[0]] # получаем ответ в символьном представлении\n",
        "\n",
        "    inp_str += d # дописываем строку\n",
        "\n",
        "  return inp_str"
      ],
      "metadata": {
        "id": "s0_LNL2pMiku"
      },
      "execution_count": 49,
      "outputs": []
    },
    {
      "cell_type": "code",
      "source": [
        "res = buildPhrase(\"утренн\")\n",
        "print(res)"
      ],
      "metadata": {
        "colab": {
          "base_uri": "https://localhost:8080/"
        },
        "id": "7-vxdO-dMijp",
        "outputId": "cf2cb769-fb3c-4390-f45f-e9c07c35e903"
      },
      "execution_count": 50,
      "outputs": [
        {
          "output_type": "stream",
          "name": "stdout",
          "text": [
            "1/1 [==============================] - 0s 205ms/step\n",
            "1/1 [==============================] - 0s 34ms/step\n",
            "1/1 [==============================] - 0s 39ms/step\n",
            "1/1 [==============================] - 0s 26ms/step\n",
            "1/1 [==============================] - 0s 28ms/step\n",
            "1/1 [==============================] - 0s 34ms/step\n",
            "1/1 [==============================] - 0s 37ms/step\n",
            "1/1 [==============================] - 0s 42ms/step\n",
            "1/1 [==============================] - 0s 38ms/step\n",
            "1/1 [==============================] - 0s 29ms/step\n",
            "1/1 [==============================] - 0s 40ms/step\n",
            "1/1 [==============================] - 0s 39ms/step\n",
            "1/1 [==============================] - 0s 33ms/step\n",
            "1/1 [==============================] - 0s 31ms/step\n",
            "1/1 [==============================] - 0s 32ms/step\n",
            "1/1 [==============================] - 0s 27ms/step\n",
            "1/1 [==============================] - 0s 31ms/step\n",
            "1/1 [==============================] - 0s 39ms/step\n",
            "1/1 [==============================] - 0s 36ms/step\n",
            "1/1 [==============================] - 0s 33ms/step\n",
            "1/1 [==============================] - 0s 27ms/step\n",
            "1/1 [==============================] - 0s 32ms/step\n",
            "1/1 [==============================] - 0s 36ms/step\n",
            "1/1 [==============================] - 0s 25ms/step\n",
            "1/1 [==============================] - 0s 31ms/step\n",
            "1/1 [==============================] - 0s 24ms/step\n",
            "1/1 [==============================] - 0s 23ms/step\n",
            "1/1 [==============================] - 0s 36ms/step\n",
            "1/1 [==============================] - 0s 30ms/step\n",
            "1/1 [==============================] - 0s 34ms/step\n",
            "1/1 [==============================] - 0s 32ms/step\n",
            "1/1 [==============================] - 0s 32ms/step\n",
            "1/1 [==============================] - 0s 28ms/step\n",
            "1/1 [==============================] - 0s 31ms/step\n",
            "1/1 [==============================] - 0s 28ms/step\n",
            "1/1 [==============================] - 0s 26ms/step\n",
            "1/1 [==============================] - 0s 24ms/step\n",
            "1/1 [==============================] - 0s 31ms/step\n",
            "1/1 [==============================] - 0s 25ms/step\n",
            "1/1 [==============================] - 0s 26ms/step\n",
            "1/1 [==============================] - 0s 30ms/step\n",
            "1/1 [==============================] - 0s 28ms/step\n",
            "1/1 [==============================] - 0s 31ms/step\n",
            "1/1 [==============================] - 0s 28ms/step\n",
            "1/1 [==============================] - 0s 28ms/step\n",
            "1/1 [==============================] - 0s 31ms/step\n",
            "1/1 [==============================] - 0s 31ms/step\n",
            "1/1 [==============================] - 0s 32ms/step\n",
            "1/1 [==============================] - 0s 30ms/step\n",
            "1/1 [==============================] - 0s 75ms/step\n",
            "утренновтовн  и верьте в свою способность достигать отли\n"
          ]
        }
      ]
    },
    {
      "cell_type": "markdown",
      "source": [
        "# Слова\n"
      ],
      "metadata": {
        "id": "5Lp6XvkoOYyH"
      }
    },
    {
      "cell_type": "code",
      "source": [
        "with open('train_data.txt', 'r', encoding='utf-8') as f:\n",
        "    texts = f.read()\n",
        "    texts = texts.replace('\\ufeff', '') # убираем первый невидимый символ"
      ],
      "metadata": {
        "id": "_-Wq8QJ2PDM2"
      },
      "execution_count": 97,
      "outputs": []
    },
    {
      "cell_type": "code",
      "source": [
        "texts"
      ],
      "metadata": {
        "colab": {
          "base_uri": "https://localhost:8080/",
          "height": 53
        },
        "id": "3oj0eZA4Zs7n",
        "outputId": "52f3a815-b1e4-4c0a-8416-f53f82ef420e"
      },
      "execution_count": 104,
      "outputs": [
        {
          "output_type": "execute_result",
          "data": {
            "text/plain": [
              "'Вы — лучший ответ на проблемы, которые возникли в понедельник.\\nДумайте позитивно и верьте в свою способность достигать отличных результатов.\\nЕсли вы смогли в понедельник подняться с постели, значит вы супер герой.'"
            ],
            "application/vnd.google.colaboratory.intrinsic+json": {
              "type": "string"
            }
          },
          "metadata": {},
          "execution_count": 104
        }
      ]
    },
    {
      "cell_type": "code",
      "source": [
        "maxWordsCount = 1000\n",
        "tokenizer = Tokenizer(num_words=maxWordsCount, filters='!–\"—#$%&amp;()*+,-./:;<=>?@[\\\\]^_`{|}~\\t\\n\\r«»',\n",
        "                       lower=True, split=' ', char_level=False)"
      ],
      "metadata": {
        "id": "revghpcNPQSd"
      },
      "execution_count": 105,
      "outputs": []
    },
    {
      "cell_type": "code",
      "source": [
        "tokenizer.fit_on_texts([texts])"
      ],
      "metadata": {
        "id": "VIBLvXtoh4dt"
      },
      "execution_count": 106,
      "outputs": []
    },
    {
      "cell_type": "code",
      "source": [
        "dist = list(tokenizer.word_counts.items())\n",
        "print(dist[:10])"
      ],
      "metadata": {
        "colab": {
          "base_uri": "https://localhost:8080/"
        },
        "id": "HPga89Z4PVFe",
        "outputId": "d6d1c9c9-d40b-47ae-a58d-2caae7a72cfe"
      },
      "execution_count": 107,
      "outputs": [
        {
          "output_type": "stream",
          "name": "stdout",
          "text": [
            "[('вы', 3), ('лучший', 1), ('ответ', 1), ('на', 1), ('проблемы', 1), ('которые', 1), ('возникли', 1), ('в', 3), ('понедельник', 2), ('думайте', 1)]\n"
          ]
        }
      ]
    },
    {
      "cell_type": "code",
      "source": [
        "data = tokenizer.texts_to_sequences([texts])"
      ],
      "metadata": {
        "id": "7mpCwwYQP5hV"
      },
      "execution_count": 124,
      "outputs": []
    },
    {
      "cell_type": "code",
      "source": [
        "data[0]"
      ],
      "metadata": {
        "id": "tPDrhzF4P7Lk"
      },
      "execution_count": null,
      "outputs": []
    },
    {
      "cell_type": "code",
      "source": [
        "len(data[0])"
      ],
      "metadata": {
        "colab": {
          "base_uri": "https://localhost:8080/"
        },
        "id": "fA6DuYkoQS8N",
        "outputId": "c0fc8fc4-9a5a-49c4-f79c-ff12fcc3abca"
      },
      "execution_count": 118,
      "outputs": [
        {
          "output_type": "execute_result",
          "data": {
            "text/plain": [
              "31"
            ]
          },
          "metadata": {},
          "execution_count": 118
        }
      ]
    },
    {
      "cell_type": "code",
      "source": [
        "res = keras.utils.to_categorical(data[0], num_classes=maxWordsCount)\n",
        "print( res.shape )"
      ],
      "metadata": {
        "colab": {
          "base_uri": "https://localhost:8080/"
        },
        "id": "ILtfEKKIQH2d",
        "outputId": "cdaca004-9d57-4098-8375-c5e1c4be96fb"
      },
      "execution_count": 111,
      "outputs": [
        {
          "output_type": "stream",
          "name": "stdout",
          "text": [
            "(31, 1000)\n"
          ]
        }
      ]
    },
    {
      "cell_type": "code",
      "source": [
        "res[0]"
      ],
      "metadata": {
        "id": "2t-h9IM4jfO5"
      },
      "execution_count": null,
      "outputs": []
    },
    {
      "cell_type": "code",
      "source": [
        "inp_words = 3\n",
        "n = res.shape[0]-inp_words\n",
        "n"
      ],
      "metadata": {
        "id": "pVSmTo2qQyer",
        "colab": {
          "base_uri": "https://localhost:8080/"
        },
        "outputId": "b37e800c-6ec5-46b1-fb1f-3106500f416c"
      },
      "execution_count": 113,
      "outputs": [
        {
          "output_type": "execute_result",
          "data": {
            "text/plain": [
              "28"
            ]
          },
          "metadata": {},
          "execution_count": 113
        }
      ]
    },
    {
      "cell_type": "code",
      "source": [
        "X = np.array([res[i:i+inp_words, :] for i in range(n)])\n",
        "Y = res[inp_words:]"
      ],
      "metadata": {
        "id": "_ljnZUqXQ3Zz"
      },
      "execution_count": 121,
      "outputs": []
    },
    {
      "cell_type": "code",
      "source": [
        "model = Sequential()\n",
        "model.add(Input((inp_words, maxWordsCount)))\n",
        "model.add(SimpleRNN(128, activation='tanh'))\n",
        "model.add(Dense(maxWordsCount, activation='softmax'))\n",
        "model.summary()\n",
        "\n",
        "model.compile(loss='categorical_crossentropy', metrics=['accuracy'], optimizer='adam')"
      ],
      "metadata": {
        "colab": {
          "base_uri": "https://localhost:8080/"
        },
        "id": "Yc8dLHkSQ9Nr",
        "outputId": "d1743ee1-b463-4e3b-af89-579698b2b36d"
      },
      "execution_count": 122,
      "outputs": [
        {
          "output_type": "stream",
          "name": "stdout",
          "text": [
            "Model: \"sequential_4\"\n",
            "_________________________________________________________________\n",
            " Layer (type)                Output Shape              Param #   \n",
            "=================================================================\n",
            " simple_rnn_4 (SimpleRNN)    (None, 128)               144512    \n",
            "                                                                 \n",
            " dense_4 (Dense)             (None, 1000)              129000    \n",
            "                                                                 \n",
            "=================================================================\n",
            "Total params: 273512 (1.04 MB)\n",
            "Trainable params: 273512 (1.04 MB)\n",
            "Non-trainable params: 0 (0.00 Byte)\n",
            "_________________________________________________________________\n"
          ]
        }
      ]
    },
    {
      "cell_type": "code",
      "source": [
        "history = model.fit(X, Y, batch_size=32, epochs=19)"
      ],
      "metadata": {
        "colab": {
          "base_uri": "https://localhost:8080/"
        },
        "id": "Av36xtecRA8L",
        "outputId": "b6077a2a-fab1-4707-f8a0-6d901603b2f5"
      },
      "execution_count": 123,
      "outputs": [
        {
          "output_type": "stream",
          "name": "stdout",
          "text": [
            "Epoch 1/19\n",
            "1/1 [==============================] - 1s 1s/step - loss: 6.9199 - accuracy: 0.0000e+00\n",
            "Epoch 2/19\n",
            "1/1 [==============================] - 0s 22ms/step - loss: 6.8939 - accuracy: 0.0000e+00\n",
            "Epoch 3/19\n",
            "1/1 [==============================] - 0s 20ms/step - loss: 6.8678 - accuracy: 0.0357\n",
            "Epoch 4/19\n",
            "1/1 [==============================] - 0s 23ms/step - loss: 6.8414 - accuracy: 0.1786\n",
            "Epoch 5/19\n",
            "1/1 [==============================] - 0s 29ms/step - loss: 6.8144 - accuracy: 0.3214\n",
            "Epoch 6/19\n",
            "1/1 [==============================] - 0s 17ms/step - loss: 6.7867 - accuracy: 0.5357\n",
            "Epoch 7/19\n",
            "1/1 [==============================] - 0s 17ms/step - loss: 6.7578 - accuracy: 0.6786\n",
            "Epoch 8/19\n",
            "1/1 [==============================] - 0s 17ms/step - loss: 6.7275 - accuracy: 0.7857\n",
            "Epoch 9/19\n",
            "1/1 [==============================] - 0s 17ms/step - loss: 6.6954 - accuracy: 0.9286\n",
            "Epoch 10/19\n",
            "1/1 [==============================] - 0s 17ms/step - loss: 6.6612 - accuracy: 0.9643\n",
            "Epoch 11/19\n",
            "1/1 [==============================] - 0s 20ms/step - loss: 6.6244 - accuracy: 1.0000\n",
            "Epoch 12/19\n",
            "1/1 [==============================] - 0s 18ms/step - loss: 6.5844 - accuracy: 1.0000\n",
            "Epoch 13/19\n",
            "1/1 [==============================] - 0s 20ms/step - loss: 6.5406 - accuracy: 1.0000\n",
            "Epoch 14/19\n",
            "1/1 [==============================] - 0s 22ms/step - loss: 6.4925 - accuracy: 1.0000\n",
            "Epoch 15/19\n",
            "1/1 [==============================] - 0s 20ms/step - loss: 6.4391 - accuracy: 1.0000\n",
            "Epoch 16/19\n",
            "1/1 [==============================] - 0s 23ms/step - loss: 6.3795 - accuracy: 1.0000\n",
            "Epoch 17/19\n",
            "1/1 [==============================] - 0s 17ms/step - loss: 6.3127 - accuracy: 1.0000\n",
            "Epoch 18/19\n",
            "1/1 [==============================] - 0s 18ms/step - loss: 6.2374 - accuracy: 1.0000\n",
            "Epoch 19/19\n",
            "1/1 [==============================] - 0s 16ms/step - loss: 6.1521 - accuracy: 1.0000\n"
          ]
        }
      ]
    },
    {
      "cell_type": "code",
      "source": [
        "def buildPhrase(texts, str_len = 20):\n",
        "  res = texts\n",
        "  data = tokenizer.texts_to_sequences([texts])[0]\n",
        "  for i in range(str_len):\n",
        "    x = keras.utils.to_categorical(data[i: i+inp_words], num_classes=maxWordsCount) # преобразуем в One-Hot-encoding\n",
        "    inp = x.reshape(1, inp_words, maxWordsCount)\n",
        "    pred = model.predict( inp ) # предсказываем OHE четвертого символа\n",
        "    indx = pred.argmax(axis=1)[0]\n",
        "    data.append(indx)\n",
        "    res += \" \" + tokenizer.index_word[indx] # дописываем строку\n",
        "  return res"
      ],
      "metadata": {
        "id": "WiPb0RnqRJiT"
      },
      "execution_count": 90,
      "outputs": []
    },
    {
      "cell_type": "code",
      "source": [
        "for i in range(1):\n",
        "    x = keras.utils.to_categorical(data[i: i+inp_words], num_classes=maxWordsCount)"
      ],
      "metadata": {
        "id": "yrBbGq92UeSP"
      },
      "execution_count": 91,
      "outputs": []
    },
    {
      "cell_type": "code",
      "source": [
        "x.shape"
      ],
      "metadata": {
        "colab": {
          "base_uri": "https://localhost:8080/"
        },
        "id": "9CEjebYVUpuH",
        "outputId": "9fd4796a-6808-4a7c-f755-ef440900555e"
      },
      "execution_count": 92,
      "outputs": [
        {
          "output_type": "execute_result",
          "data": {
            "text/plain": [
              "(1, 31, 1000)"
            ]
          },
          "metadata": {},
          "execution_count": 92
        }
      ]
    },
    {
      "cell_type": "code",
      "source": [],
      "metadata": {
        "id": "GJwBBqAxltVa"
      },
      "execution_count": null,
      "outputs": []
    },
    {
      "cell_type": "code",
      "source": [
        "i = 0"
      ],
      "metadata": {
        "id": "T0aiYOaalNqW"
      },
      "execution_count": 132,
      "outputs": []
    },
    {
      "cell_type": "code",
      "source": [
        "x = keras.utils.to_categorical(data[i: i+inp_words], num_classes=maxWordsCount) # преобразуем в One-Hot-encoding\n",
        "x"
      ],
      "metadata": {
        "colab": {
          "base_uri": "https://localhost:8080/"
        },
        "id": "VMLCqM29lJ7o",
        "outputId": "04d52948-9733-488d-ce8c-464027fa0df4"
      },
      "execution_count": 133,
      "outputs": [
        {
          "output_type": "execute_result",
          "data": {
            "text/plain": [
              "array([], shape=(3, 0, 1000), dtype=float32)"
            ]
          },
          "metadata": {},
          "execution_count": 133
        }
      ]
    },
    {
      "cell_type": "markdown",
      "source": [
        "**Размерности не совпадают!**"
      ],
      "metadata": {
        "id": "8f1nB5a4l7lE"
      }
    },
    {
      "cell_type": "code",
      "source": [
        "inp = x.reshape(1, inp_words, maxWordsCount)\n",
        "inp"
      ],
      "metadata": {
        "colab": {
          "base_uri": "https://localhost:8080/",
          "height": 162
        },
        "id": "6BCXG13BleYD",
        "outputId": "61217718-1b2f-4fcc-b048-3957d5847bee"
      },
      "execution_count": 134,
      "outputs": [
        {
          "output_type": "error",
          "ename": "ValueError",
          "evalue": "cannot reshape array of size 0 into shape (1,3,1000)",
          "traceback": [
            "\u001b[0;31m---------------------------------------------------------------------------\u001b[0m",
            "\u001b[0;31mValueError\u001b[0m                                Traceback (most recent call last)",
            "\u001b[0;32m<ipython-input-134-60fd148b2b61>\u001b[0m in \u001b[0;36m<cell line: 1>\u001b[0;34m()\u001b[0m\n\u001b[0;32m----> 1\u001b[0;31m \u001b[0minp\u001b[0m \u001b[0;34m=\u001b[0m \u001b[0mx\u001b[0m\u001b[0;34m.\u001b[0m\u001b[0mreshape\u001b[0m\u001b[0;34m(\u001b[0m\u001b[0;36m1\u001b[0m\u001b[0;34m,\u001b[0m \u001b[0minp_words\u001b[0m\u001b[0;34m,\u001b[0m \u001b[0mmaxWordsCount\u001b[0m\u001b[0;34m)\u001b[0m\u001b[0;34m\u001b[0m\u001b[0;34m\u001b[0m\u001b[0m\n\u001b[0m\u001b[1;32m      2\u001b[0m \u001b[0minp\u001b[0m\u001b[0;34m\u001b[0m\u001b[0;34m\u001b[0m\u001b[0m\n",
            "\u001b[0;31mValueError\u001b[0m: cannot reshape array of size 0 into shape (1,3,1000)"
          ]
        }
      ]
    },
    {
      "cell_type": "code",
      "source": [
        "test_0 = \"позитив добавляет годы\""
      ],
      "metadata": {
        "id": "lqMpn2CIfw_O"
      },
      "execution_count": 94,
      "outputs": []
    },
    {
      "cell_type": "code",
      "source": [
        "data = tokenizer.texts_to_sequences(test_0)"
      ],
      "metadata": {
        "id": "9xREflTckTNT"
      },
      "execution_count": 125,
      "outputs": []
    },
    {
      "cell_type": "code",
      "source": [
        "data = tokenizer.texts_to_sequences([test_0])[0]\n",
        "data"
      ],
      "metadata": {
        "colab": {
          "base_uri": "https://localhost:8080/"
        },
        "id": "xLyNw626ftpx",
        "outputId": "6e4312e9-f38c-4f4b-e040-f2044830345d"
      },
      "execution_count": 96,
      "outputs": [
        {
          "output_type": "execute_result",
          "data": {
            "text/plain": [
              "[]"
            ]
          },
          "metadata": {},
          "execution_count": 96
        }
      ]
    },
    {
      "cell_type": "code",
      "source": [
        "data"
      ],
      "metadata": {
        "colab": {
          "base_uri": "https://localhost:8080/"
        },
        "id": "n4z4Q3p8kYKN",
        "outputId": "2829eb48-1e2e-457a-9d3f-258514c61d99"
      },
      "execution_count": 131,
      "outputs": [
        {
          "output_type": "execute_result",
          "data": {
            "text/plain": [
              "[[],\n",
              " [],\n",
              " [],\n",
              " [12],\n",
              " [],\n",
              " [12],\n",
              " [2],\n",
              " [],\n",
              " [],\n",
              " [],\n",
              " [],\n",
              " [],\n",
              " [2],\n",
              " [],\n",
              " [],\n",
              " [],\n",
              " [],\n",
              " [],\n",
              " [],\n",
              " [],\n",
              " [],\n",
              " []]"
            ]
          },
          "metadata": {},
          "execution_count": 131
        }
      ]
    },
    {
      "cell_type": "code",
      "source": [
        "res = buildPhrase(\"позитив добавляет годы\")\n",
        "print(res)"
      ],
      "metadata": {
        "colab": {
          "base_uri": "https://localhost:8080/",
          "height": 306
        },
        "id": "v2L7ReIFRUuz",
        "outputId": "26f99b53-a6f8-4c04-8f04-2ab470414e87"
      },
      "execution_count": 93,
      "outputs": [
        {
          "output_type": "error",
          "ename": "ValueError",
          "evalue": "cannot reshape array of size 0 into shape (1,3,1000)",
          "traceback": [
            "\u001b[0;31m---------------------------------------------------------------------------\u001b[0m",
            "\u001b[0;31mValueError\u001b[0m                                Traceback (most recent call last)",
            "\u001b[0;32m<ipython-input-93-ad303e984590>\u001b[0m in \u001b[0;36m<cell line: 1>\u001b[0;34m()\u001b[0m\n\u001b[0;32m----> 1\u001b[0;31m \u001b[0mres\u001b[0m \u001b[0;34m=\u001b[0m \u001b[0mbuildPhrase\u001b[0m\u001b[0;34m(\u001b[0m\u001b[0;34m\"позитив добавляет годы\"\u001b[0m\u001b[0;34m)\u001b[0m\u001b[0;34m\u001b[0m\u001b[0;34m\u001b[0m\u001b[0m\n\u001b[0m\u001b[1;32m      2\u001b[0m \u001b[0mprint\u001b[0m\u001b[0;34m(\u001b[0m\u001b[0mres\u001b[0m\u001b[0;34m)\u001b[0m\u001b[0;34m\u001b[0m\u001b[0;34m\u001b[0m\u001b[0m\n",
            "\u001b[0;32m<ipython-input-90-9312a211abe7>\u001b[0m in \u001b[0;36mbuildPhrase\u001b[0;34m(texts, str_len)\u001b[0m\n\u001b[1;32m      4\u001b[0m   \u001b[0;32mfor\u001b[0m \u001b[0mi\u001b[0m \u001b[0;32min\u001b[0m \u001b[0mrange\u001b[0m\u001b[0;34m(\u001b[0m\u001b[0mstr_len\u001b[0m\u001b[0;34m)\u001b[0m\u001b[0;34m:\u001b[0m\u001b[0;34m\u001b[0m\u001b[0;34m\u001b[0m\u001b[0m\n\u001b[1;32m      5\u001b[0m     \u001b[0mx\u001b[0m \u001b[0;34m=\u001b[0m \u001b[0mkeras\u001b[0m\u001b[0;34m.\u001b[0m\u001b[0mutils\u001b[0m\u001b[0;34m.\u001b[0m\u001b[0mto_categorical\u001b[0m\u001b[0;34m(\u001b[0m\u001b[0mdata\u001b[0m\u001b[0;34m[\u001b[0m\u001b[0mi\u001b[0m\u001b[0;34m:\u001b[0m \u001b[0mi\u001b[0m\u001b[0;34m+\u001b[0m\u001b[0minp_words\u001b[0m\u001b[0;34m]\u001b[0m\u001b[0;34m,\u001b[0m \u001b[0mnum_classes\u001b[0m\u001b[0;34m=\u001b[0m\u001b[0mmaxWordsCount\u001b[0m\u001b[0;34m)\u001b[0m \u001b[0;31m# преобразуем в One-Hot-encoding\u001b[0m\u001b[0;34m\u001b[0m\u001b[0;34m\u001b[0m\u001b[0m\n\u001b[0;32m----> 6\u001b[0;31m     \u001b[0minp\u001b[0m \u001b[0;34m=\u001b[0m \u001b[0mx\u001b[0m\u001b[0;34m.\u001b[0m\u001b[0mreshape\u001b[0m\u001b[0;34m(\u001b[0m\u001b[0;36m1\u001b[0m\u001b[0;34m,\u001b[0m \u001b[0minp_words\u001b[0m\u001b[0;34m,\u001b[0m \u001b[0mmaxWordsCount\u001b[0m\u001b[0;34m)\u001b[0m\u001b[0;34m\u001b[0m\u001b[0;34m\u001b[0m\u001b[0m\n\u001b[0m\u001b[1;32m      7\u001b[0m     \u001b[0mpred\u001b[0m \u001b[0;34m=\u001b[0m \u001b[0mmodel\u001b[0m\u001b[0;34m.\u001b[0m\u001b[0mpredict\u001b[0m\u001b[0;34m(\u001b[0m \u001b[0minp\u001b[0m \u001b[0;34m)\u001b[0m \u001b[0;31m# предсказываем OHE четвертого символа\u001b[0m\u001b[0;34m\u001b[0m\u001b[0;34m\u001b[0m\u001b[0m\n\u001b[1;32m      8\u001b[0m     \u001b[0mindx\u001b[0m \u001b[0;34m=\u001b[0m \u001b[0mpred\u001b[0m\u001b[0;34m.\u001b[0m\u001b[0margmax\u001b[0m\u001b[0;34m(\u001b[0m\u001b[0maxis\u001b[0m\u001b[0;34m=\u001b[0m\u001b[0;36m1\u001b[0m\u001b[0;34m)\u001b[0m\u001b[0;34m[\u001b[0m\u001b[0;36m0\u001b[0m\u001b[0;34m]\u001b[0m\u001b[0;34m\u001b[0m\u001b[0;34m\u001b[0m\u001b[0m\n",
            "\u001b[0;31mValueError\u001b[0m: cannot reshape array of size 0 into shape (1,3,1000)"
          ]
        }
      ]
    }
  ]
}